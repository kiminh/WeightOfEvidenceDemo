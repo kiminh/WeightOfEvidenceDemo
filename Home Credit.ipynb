{
 "cells": [
  {
   "cell_type": "code",
   "execution_count": 1,
   "metadata": {},
   "outputs": [],
   "source": [
    "%load_ext lab_black"
   ]
  },
  {
   "cell_type": "code",
   "execution_count": 60,
   "metadata": {},
   "outputs": [],
   "source": [
    "from sklearn.base import BaseEstimator, TransformerMixin"
   ]
  },
  {
   "cell_type": "code",
   "execution_count": 2,
   "metadata": {},
   "outputs": [],
   "source": [
    "import pandas as pd\n",
    "import numpy as np"
   ]
  },
  {
   "cell_type": "code",
   "execution_count": 3,
   "metadata": {},
   "outputs": [],
   "source": [
    "from sklearn.pipeline import Pipeline, make_pipeline\n",
    "from sklearn.impute import SimpleImputer\n",
    "from sklearn.preprocessing import StandardScaler, OneHotEncoder\n",
    "from sklearn.model_selection import StratifiedKFold\n",
    "from sklearn.linear_model import LogisticRegressionCV, LogisticRegression\n",
    "from sklearn.compose import ColumnTransformer\n",
    "from sklearn.metrics import brier_score_loss, roc_auc_score"
   ]
  },
  {
   "cell_type": "code",
   "execution_count": 50,
   "metadata": {},
   "outputs": [],
   "source": [
    "import lightgbm as lgb"
   ]
  },
  {
   "cell_type": "code",
   "execution_count": 5,
   "metadata": {},
   "outputs": [],
   "source": [
    "import seaborn as sns\n",
    "import matplotlib.pyplot as plt"
   ]
  },
  {
   "cell_type": "code",
   "execution_count": 6,
   "metadata": {},
   "outputs": [],
   "source": [
    "from weight_of_evidence import weight_of_evidence"
   ]
  },
  {
   "cell_type": "code",
   "execution_count": 7,
   "metadata": {},
   "outputs": [
    {
     "data": {
      "text/plain": [
       "<module 'weight_of_evidence.weight_of_evidence' from '/Users/olivercairns/Desktop/code/WeightOfEvidenceDemo/weight_of_evidence/weight_of_evidence.py'>"
      ]
     },
     "execution_count": 7,
     "metadata": {},
     "output_type": "execute_result"
    }
   ],
   "source": [
    "import importlib\n",
    "\n",
    "importlib.reload(weight_of_evidence)"
   ]
  },
  {
   "cell_type": "code",
   "execution_count": 61,
   "metadata": {},
   "outputs": [],
   "source": [
    "class NumCatEncoder(BaseEstimator, TransformerMixin):\n",
    "    \"\"\"\n",
    "    Encodes string/object --> numeric categories\n",
    "\n",
    "    Methods\n",
    "    -------\n",
    "        fit\n",
    "            finds preprocessing strategies for all cols\n",
    "        transform\n",
    "            preprocesses all  cols\n",
    "        fit_transform\n",
    "            fit & transform\n",
    "    \"\"\"\n",
    "\n",
    "    def fit(self, X, y=None):\n",
    "        \"\"\"\n",
    "        Parameters\n",
    "        ----------\n",
    "            X : dataframe\n",
    "                data to be encoded\n",
    "        Returns\n",
    "        ------\n",
    "            self : BaseEstimator\n",
    "                fitted transformer\n",
    "        \"\"\"\n",
    "        self.categorical_cols_ = X.select_dtypes(include=[\"object\"]).columns\n",
    "\n",
    "        self.label_encoder = {}\n",
    "        for cat_col in self.categorical_cols_:\n",
    "            values = X[cat_col].astype(\"str\").unique()\n",
    "            mapping = dict(zip(values, range(len(values))))\n",
    "            self.label_encoder[cat_col] = mapping\n",
    "\n",
    "        return self\n",
    "\n",
    "    def transform(self, X, y=None):\n",
    "        \"\"\"\n",
    "        Parameters\n",
    "        -----------\n",
    "            X : dataframe\n",
    "                data to be encoded\n",
    "        Returns\n",
    "        -------\n",
    "            X : dataframe\n",
    "                encoded data\n",
    "        \"\"\"\n",
    "        _X = X.copy()\n",
    "        for cat_col in self.categorical_cols_:\n",
    "            _X[cat_col] = X[cat_col].astype(\"str\").map(self.label_encoder[cat_col])\n",
    "\n",
    "        return _X"
   ]
  },
  {
   "cell_type": "code",
   "execution_count": 116,
   "metadata": {},
   "outputs": [],
   "source": [
    "class LightGBMCategoricalFeatureWrapper:\n",
    "    def __init__(self, params={}):\n",
    "        self.params = params\n",
    "        self.encoder = NumCatEncoder()\n",
    "\n",
    "    def fit(self, X, y):\n",
    "        X_encoded = self.encoder.fit_transform(X)\n",
    "        cat_col_idxs = [i for i, d_type in enumerate(X.dtypes) if d_type == \"object\"]\n",
    "\n",
    "        lgb_train = lgb.Dataset(\n",
    "            data=X_encoded, label=y, categorical_feature=cat_col_idxs\n",
    "        )\n",
    "\n",
    "        self.lgb_classifier = lgb.train(params=self.params, train_set=lgb_train)\n",
    "        return self\n",
    "\n",
    "    def predict_proba(self, X):\n",
    "        X_encoded = self.encoder.transform(X)\n",
    "        p_1 = self.lgb_classifier.predict(X_encoded)\n",
    "        p_0 = 1.0 - p_1\n",
    "        return np.stack([p_0, p_1]).T"
   ]
  },
  {
   "cell_type": "code",
   "execution_count": 80,
   "metadata": {},
   "outputs": [],
   "source": [
    "data = pd.read_csv(\"~/Downloads/application_train.csv\")"
   ]
  },
  {
   "cell_type": "code",
   "execution_count": 81,
   "metadata": {},
   "outputs": [],
   "source": [
    "EXCLUDE_COLS = [\n",
    "    \"SK_ID_CURR\",\n",
    "    \"TARGET\",\n",
    "    \"CODE_GENDER\",\n",
    "    \"ORGANIZATION_TYPE\",\n",
    "    \"NAME_FAMILY_STATUS\",\n",
    "]"
   ]
  },
  {
   "cell_type": "code",
   "execution_count": 82,
   "metadata": {},
   "outputs": [],
   "source": [
    "CATERORICAL_COLS = data.drop(columns=EXCLUDE_COLS).select_dtypes(\"O\").columns"
   ]
  },
  {
   "cell_type": "code",
   "execution_count": 83,
   "metadata": {},
   "outputs": [],
   "source": [
    "NUMERIC_COLS = data.drop(columns=EXCLUDE_COLS).select_dtypes(\"int64\").columns"
   ]
  },
  {
   "cell_type": "code",
   "execution_count": 84,
   "metadata": {},
   "outputs": [],
   "source": [
    "data[CATERORICAL_COLS] = data[CATERORICAL_COLS].fillna(\"MISSING\")"
   ]
  },
  {
   "cell_type": "code",
   "execution_count": 85,
   "metadata": {},
   "outputs": [],
   "source": [
    "numeric_transformer = Pipeline(\n",
    "    steps=[(\"imputer\", SimpleImputer(strategy=\"median\")), (\"scaler\", StandardScaler())]\n",
    ")"
   ]
  },
  {
   "cell_type": "code",
   "execution_count": 86,
   "metadata": {},
   "outputs": [],
   "source": [
    "ohe_preprocessor = ColumnTransformer(\n",
    "    transformers=[\n",
    "        (\"num\", numeric_transformer, NUMERIC_COLS),\n",
    "        (\"cat\", OneHotEncoder(handle_unknown=\"ignore\"), CATERORICAL_COLS),\n",
    "    ]\n",
    ")"
   ]
  },
  {
   "cell_type": "code",
   "execution_count": 87,
   "metadata": {},
   "outputs": [],
   "source": [
    "log_reg = LogisticRegression(solver=\"lbfgs\", max_iter=1e6)"
   ]
  },
  {
   "cell_type": "code",
   "execution_count": 88,
   "metadata": {},
   "outputs": [],
   "source": [
    "ohe_logit = Pipeline(\n",
    "    steps=[(\"preprocessor\", ohe_preprocessor), (\"log_reg_classifier\", log_reg),]\n",
    ")"
   ]
  },
  {
   "cell_type": "code",
   "execution_count": 89,
   "metadata": {},
   "outputs": [],
   "source": [
    "ohe_lgb = Pipeline(\n",
    "    steps=[(\"preprocessor\", ohe_preprocessor), (\"lgb_classifier\", lgb.LGBMClassifier())]\n",
    ")"
   ]
  },
  {
   "cell_type": "code",
   "execution_count": 122,
   "metadata": {},
   "outputs": [],
   "source": [
    "lgb_baseline = LightGBMCategoricalFeatureWrapper()"
   ]
  },
  {
   "cell_type": "code",
   "execution_count": 117,
   "metadata": {},
   "outputs": [],
   "source": [
    "combined_results = pd.DataFrame()"
   ]
  },
  {
   "cell_type": "code",
   "execution_count": 118,
   "metadata": {},
   "outputs": [],
   "source": [
    "cv = StratifiedKFold(n_splits=5, shuffle=True, random_state=1234)"
   ]
  },
  {
   "cell_type": "code",
   "execution_count": 119,
   "metadata": {},
   "outputs": [],
   "source": [
    "X = data.drop(columns=EXCLUDE_COLS)\n",
    "y = data.TARGET"
   ]
  },
  {
   "cell_type": "code",
   "execution_count": 120,
   "metadata": {},
   "outputs": [],
   "source": [
    "def get_cv_results(X, y, cv, clf, model_name):\n",
    "    results = {\"auc\": [], \"fold\": []}\n",
    "    fold = 1\n",
    "    for train, test in cv.split(X, y):\n",
    "        print(f\"fold {fold}\")\n",
    "        prediction = clf.fit(X.iloc[train], y.iloc[train]).predict_proba(X.iloc[test])\n",
    "        try:\n",
    "            auc = roc_auc_score(y_true=y.iloc[test], y_score=prediction[:, 1])\n",
    "        except:\n",
    "            from IPython import embed\n",
    "\n",
    "            embed()\n",
    "        results[\"auc\"].append(auc)\n",
    "        results[\"fold\"].append(fold)\n",
    "        print(f\"auc {auc}\")\n",
    "        fold += 1\n",
    "    results_df = pd.DataFrame(results)\n",
    "    results_df[\"model\"] = model_name\n",
    "    return results_df"
   ]
  },
  {
   "cell_type": "code",
   "execution_count": 121,
   "metadata": {},
   "outputs": [
    {
     "name": "stdout",
     "output_type": "stream",
     "text": [
      "fold 1\n",
      "auc 0.660356832255731\n",
      "fold 2\n",
      "auc 0.6631419031153942\n",
      "fold 3\n",
      "auc 0.6540158169998416\n",
      "fold 4\n",
      "auc 0.6600730788975613\n",
      "fold 5\n",
      "auc 0.6668053062809923\n"
     ]
    }
   ],
   "source": [
    "combined_results = get_cv_results(X, y, cv, ohe_logit, \"ohe logit\")"
   ]
  },
  {
   "cell_type": "code",
   "execution_count": 109,
   "metadata": {},
   "outputs": [
    {
     "data": {
      "text/html": [
       "<div>\n",
       "<style scoped>\n",
       "    .dataframe tbody tr th:only-of-type {\n",
       "        vertical-align: middle;\n",
       "    }\n",
       "\n",
       "    .dataframe tbody tr th {\n",
       "        vertical-align: top;\n",
       "    }\n",
       "\n",
       "    .dataframe thead th {\n",
       "        text-align: right;\n",
       "    }\n",
       "</style>\n",
       "<table border=\"1\" class=\"dataframe\">\n",
       "  <thead>\n",
       "    <tr style=\"text-align: right;\">\n",
       "      <th></th>\n",
       "      <th>auc</th>\n",
       "    </tr>\n",
       "    <tr>\n",
       "      <th>model</th>\n",
       "      <th></th>\n",
       "    </tr>\n",
       "  </thead>\n",
       "  <tbody>\n",
       "    <tr>\n",
       "      <td>ohe logit</td>\n",
       "      <td>0.660879</td>\n",
       "    </tr>\n",
       "  </tbody>\n",
       "</table>\n",
       "</div>"
      ],
      "text/plain": [
       "                auc\n",
       "model              \n",
       "ohe logit  0.660879"
      ]
     },
     "execution_count": 109,
     "metadata": {},
     "output_type": "execute_result"
    }
   ],
   "source": [
    "combined_results.groupby(\"model\")[[\"auc\"]].mean()"
   ]
  },
  {
   "cell_type": "code",
   "execution_count": 123,
   "metadata": {},
   "outputs": [
    {
     "name": "stdout",
     "output_type": "stream",
     "text": [
      "fold 1\n"
     ]
    },
    {
     "name": "stderr",
     "output_type": "stream",
     "text": [
      "/opt/anaconda3/lib/python3.7/site-packages/lightgbm/basic.py:1243: UserWarning: Using categorical_feature in Dataset.\n",
      "  warnings.warn('Using categorical_feature in Dataset.')\n"
     ]
    },
    {
     "name": "stdout",
     "output_type": "stream",
     "text": [
      "auc 0.7477476261454079\n",
      "fold 2\n"
     ]
    },
    {
     "name": "stderr",
     "output_type": "stream",
     "text": [
      "/opt/anaconda3/lib/python3.7/site-packages/lightgbm/basic.py:1243: UserWarning: Using categorical_feature in Dataset.\n",
      "  warnings.warn('Using categorical_feature in Dataset.')\n"
     ]
    },
    {
     "name": "stdout",
     "output_type": "stream",
     "text": [
      "auc 0.7515870409775942\n",
      "fold 3\n"
     ]
    },
    {
     "name": "stderr",
     "output_type": "stream",
     "text": [
      "/opt/anaconda3/lib/python3.7/site-packages/lightgbm/basic.py:1243: UserWarning: Using categorical_feature in Dataset.\n",
      "  warnings.warn('Using categorical_feature in Dataset.')\n"
     ]
    },
    {
     "name": "stdout",
     "output_type": "stream",
     "text": [
      "auc 0.756963598293098\n",
      "fold 4\n"
     ]
    },
    {
     "name": "stderr",
     "output_type": "stream",
     "text": [
      "/opt/anaconda3/lib/python3.7/site-packages/lightgbm/basic.py:1243: UserWarning: Using categorical_feature in Dataset.\n",
      "  warnings.warn('Using categorical_feature in Dataset.')\n"
     ]
    },
    {
     "name": "stdout",
     "output_type": "stream",
     "text": [
      "auc 0.7563320126820852\n",
      "fold 5\n"
     ]
    },
    {
     "name": "stderr",
     "output_type": "stream",
     "text": [
      "/opt/anaconda3/lib/python3.7/site-packages/lightgbm/basic.py:1243: UserWarning: Using categorical_feature in Dataset.\n",
      "  warnings.warn('Using categorical_feature in Dataset.')\n"
     ]
    },
    {
     "name": "stdout",
     "output_type": "stream",
     "text": [
      "auc 0.7544231628224962\n"
     ]
    }
   ],
   "source": [
    "combined_results = combined_results.append(\n",
    "    get_cv_results(X, y, cv, lgb_baseline, \"lightgbm\")\n",
    ")"
   ]
  },
  {
   "cell_type": "code",
   "execution_count": 124,
   "metadata": {},
   "outputs": [
    {
     "data": {
      "text/html": [
       "<div>\n",
       "<style scoped>\n",
       "    .dataframe tbody tr th:only-of-type {\n",
       "        vertical-align: middle;\n",
       "    }\n",
       "\n",
       "    .dataframe tbody tr th {\n",
       "        vertical-align: top;\n",
       "    }\n",
       "\n",
       "    .dataframe thead th {\n",
       "        text-align: right;\n",
       "    }\n",
       "</style>\n",
       "<table border=\"1\" class=\"dataframe\">\n",
       "  <thead>\n",
       "    <tr style=\"text-align: right;\">\n",
       "      <th></th>\n",
       "      <th>auc</th>\n",
       "    </tr>\n",
       "    <tr>\n",
       "      <th>model</th>\n",
       "      <th></th>\n",
       "    </tr>\n",
       "  </thead>\n",
       "  <tbody>\n",
       "    <tr>\n",
       "      <td>lightgbm</td>\n",
       "      <td>0.753411</td>\n",
       "    </tr>\n",
       "    <tr>\n",
       "      <td>ohe logit</td>\n",
       "      <td>0.660879</td>\n",
       "    </tr>\n",
       "  </tbody>\n",
       "</table>\n",
       "</div>"
      ],
      "text/plain": [
       "                auc\n",
       "model              \n",
       "lightgbm   0.753411\n",
       "ohe logit  0.660879"
      ]
     },
     "execution_count": 124,
     "metadata": {},
     "output_type": "execute_result"
    }
   ],
   "source": [
    "combined_results.groupby(\"model\")[[\"auc\"]].mean()"
   ]
  },
  {
   "cell_type": "code",
   "execution_count": 125,
   "metadata": {},
   "outputs": [],
   "source": [
    "woebin_logit = Pipeline(\n",
    "    steps=[\n",
    "        (\"tree_bin\", weight_of_evidence.TreeBinner()),\n",
    "        (\"woe_scale\", weight_of_evidence.LogitScaler()),\n",
    "        (\"standard_scale\", StandardScaler()),\n",
    "        (\"log_reg_classifier\", log_reg),\n",
    "    ]\n",
    ")"
   ]
  },
  {
   "cell_type": "code",
   "execution_count": 126,
   "metadata": {},
   "outputs": [
    {
     "name": "stdout",
     "output_type": "stream",
     "text": [
      "fold 1\n",
      "auc 0.7318989461659113\n",
      "fold 2\n",
      "auc 0.733909088329558\n",
      "fold 3\n",
      "auc 0.7380581255765258\n",
      "fold 4\n",
      "auc 0.7396356094087767\n",
      "fold 5\n",
      "auc 0.7365325216092035\n"
     ]
    }
   ],
   "source": [
    "combined_results = combined_results.append(\n",
    "    get_cv_results(X, y, cv, woebin_logit, \"woe binned logit\")\n",
    ")"
   ]
  },
  {
   "cell_type": "code",
   "execution_count": 127,
   "metadata": {},
   "outputs": [
    {
     "data": {
      "text/html": [
       "<div>\n",
       "<style scoped>\n",
       "    .dataframe tbody tr th:only-of-type {\n",
       "        vertical-align: middle;\n",
       "    }\n",
       "\n",
       "    .dataframe tbody tr th {\n",
       "        vertical-align: top;\n",
       "    }\n",
       "\n",
       "    .dataframe thead th {\n",
       "        text-align: right;\n",
       "    }\n",
       "</style>\n",
       "<table border=\"1\" class=\"dataframe\">\n",
       "  <thead>\n",
       "    <tr style=\"text-align: right;\">\n",
       "      <th></th>\n",
       "      <th>auc</th>\n",
       "    </tr>\n",
       "    <tr>\n",
       "      <th>model</th>\n",
       "      <th></th>\n",
       "    </tr>\n",
       "  </thead>\n",
       "  <tbody>\n",
       "    <tr>\n",
       "      <td>lightgbm</td>\n",
       "      <td>0.753411</td>\n",
       "    </tr>\n",
       "    <tr>\n",
       "      <td>ohe logit</td>\n",
       "      <td>0.660879</td>\n",
       "    </tr>\n",
       "    <tr>\n",
       "      <td>woe binned logit</td>\n",
       "      <td>0.736007</td>\n",
       "    </tr>\n",
       "  </tbody>\n",
       "</table>\n",
       "</div>"
      ],
      "text/plain": [
       "                       auc\n",
       "model                     \n",
       "lightgbm          0.753411\n",
       "ohe logit         0.660879\n",
       "woe binned logit  0.736007"
      ]
     },
     "execution_count": 127,
     "metadata": {},
     "output_type": "execute_result"
    }
   ],
   "source": [
    "combined_results.groupby(\"model\")[[\"auc\"]].mean()"
   ]
  },
  {
   "cell_type": "code",
   "execution_count": 128,
   "metadata": {},
   "outputs": [
    {
     "data": {
      "text/plain": [
       "<matplotlib.axes._subplots.AxesSubplot at 0x1a35a2b7d0>"
      ]
     },
     "execution_count": 128,
     "metadata": {},
     "output_type": "execute_result"
    },
    {
     "data": {
      "image/png": "[encoded data removed]",
      "text/plain": [
       "<Figure size 432x288 with 1 Axes>"
      ]
     },
     "metadata": {
      "needs_background": "light"
     },
     "output_type": "display_data"
    }
   ],
   "source": [
    "sns.scatterplot(data=combined_results, x=\"model\", y=\"auc\", hue=\"model\")"
   ]
  },
  {
   "cell_type": "code",
   "execution_count": null,
   "metadata": {},
   "outputs": [],
   "source": [
    "woebin_logit.fit(X, y)"
   ]
  },
  {
   "cell_type": "code",
   "execution_count": null,
   "metadata": {},
   "outputs": [],
   "source": [
    "def plot_feature_importance(\n",
    "    var_names, coefficients, n=10, output_dir=None, verbose=True\n",
    "):\n",
    "    \"\"\"\n",
    "    Find logit regression feature importance\n",
    "    Args:\n",
    "        var_names (series): variable names\n",
    "        coefficients (series): regression coefficients\n",
    "        n (integer): how many features to plot\n",
    "    \"\"\"\n",
    "    coef_df = pd.DataFrame()\n",
    "    coef_df[\"var_names\"] = var_names\n",
    "    coef_df[\"coef_vals\"] = coefficients\n",
    "    coef_df[\"abs_vals\"] = np.abs(coef_df.coef_vals)\n",
    "    coef_df = coef_df.set_index(\"var_names\").sort_values(by=\"abs_vals\", ascending=True)\n",
    "    if verbose:\n",
    "        plt.figure(figsize=(4, 8))\n",
    "        ax = coef_df.tail(n).coef_vals.plot.barh()\n",
    "        plt.title(f\"Top {n} features - logistic regression \\n\")\n",
    "        plt.show()\n",
    "    return coef_df.reset_index()"
   ]
  },
  {
   "cell_type": "code",
   "execution_count": null,
   "metadata": {},
   "outputs": [],
   "source": []
  },
  {
   "cell_type": "code",
   "execution_count": null,
   "metadata": {},
   "outputs": [],
   "source": [
    "var_importance = plot_feature_importance(\n",
    "    X.columns, woebin_logit[\"log_reg_classifier\"].coef_[0], n=5\n",
    ")"
   ]
  },
  {
   "cell_type": "code",
   "execution_count": null,
   "metadata": {},
   "outputs": [],
   "source": [
    "top_5 = var_importance.tail(5).var_names[::-1]"
   ]
  },
  {
   "cell_type": "code",
   "execution_count": null,
   "metadata": {},
   "outputs": [],
   "source": [
    "weight_of_evidence.plot_bins(X[top_5], y, woebin_logit[\"tree_bin\"].splits_)"
   ]
  },
  {
   "cell_type": "code",
   "execution_count": null,
   "metadata": {},
   "outputs": [],
   "source": [
    "first = X.head(1)"
   ]
  },
  {
   "cell_type": "code",
   "execution_count": null,
   "metadata": {},
   "outputs": [],
   "source": [
    "first.T"
   ]
  },
  {
   "cell_type": "code",
   "execution_count": null,
   "metadata": {},
   "outputs": [],
   "source": [
    "first_encoded = woebin_logit[\"standard_scale\"].transform(\n",
    "    woebin_logit[\"woe_scale\"].transform(woebin_logit[\"tree_bin\"].transform(first))\n",
    ")"
   ]
  },
  {
   "cell_type": "code",
   "execution_count": null,
   "metadata": {},
   "outputs": [],
   "source": [
    "first_encoded"
   ]
  },
  {
   "cell_type": "code",
   "execution_count": null,
   "metadata": {},
   "outputs": [],
   "source": [
    "woebin_logit[\"log_reg_classifier\"].predict_proba(first_encoded)"
   ]
  },
  {
   "cell_type": "code",
   "execution_count": null,
   "metadata": {},
   "outputs": [],
   "source": [
    "y.mean()"
   ]
  },
  {
   "cell_type": "code",
   "execution_count": null,
   "metadata": {},
   "outputs": [],
   "source": [
    "first_importance = first_encoded * woebin_logit[\"log_reg_classifier\"].coef_"
   ]
  },
  {
   "cell_type": "code",
   "execution_count": null,
   "metadata": {},
   "outputs": [],
   "source": [
    "importance_cols = plot_feature_importance(X.columns, first_importance[0], n=10)"
   ]
  },
  {
   "cell_type": "code",
   "execution_count": null,
   "metadata": {},
   "outputs": [],
   "source": []
  },
  {
   "cell_type": "code",
   "execution_count": null,
   "metadata": {},
   "outputs": [],
   "source": []
  },
  {
   "cell_type": "code",
   "execution_count": null,
   "metadata": {},
   "outputs": [],
   "source": []
  }
 ],
 "metadata": {
  "kernelspec": {
   "display_name": "Python 3",
   "language": "python",
   "name": "python3"
  },
  "language_info": {
   "codemirror_mode": {
    "name": "ipython",
    "version": 3
   },
   "file_extension": ".py",
   "mimetype": "text/x-python",
   "name": "python",
   "nbconvert_exporter": "python",
   "pygments_lexer": "ipython3",
   "version": "3.7.4"
  }
 },
 "nbformat": 4,
 "nbformat_minor": 4
}
